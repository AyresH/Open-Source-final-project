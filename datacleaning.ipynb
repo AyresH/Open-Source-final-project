{
 "cells": [
  {
   "cell_type": "code",
   "execution_count": 1,
   "metadata": {},
   "outputs": [],
   "source": [
    "import pandas as pd \n",
    "import numpy as np "
   ]
  },
  {
   "cell_type": "code",
   "execution_count": 2,
   "metadata": {},
   "outputs": [],
   "source": [
    "data1 = pd.read_csv('music_chinese.csv')\n",
    "data2 = pd.read_csv('music_english.csv')\n",
    "data3 = pd.read_csv('music_original.csv')\n",
    "data = pd.DataFrame()"
   ]
  },
  {
   "cell_type": "code",
   "execution_count": 3,
   "metadata": {},
   "outputs": [
    {
     "output_type": "stream",
     "name": "stdout",
     "text": [
      "<class 'pandas.core.frame.DataFrame'>\nInt64Index: 3147 entries, 0 to 1048\nData columns (total 3 columns):\n #   Column  Non-Null Count  Dtype \n---  ------  --------------  ----- \n 0   title   3147 non-null   object\n 1   score   3147 non-null   object\n 2   tag     3142 non-null   object\ndtypes: object(3)\nmemory usage: 98.3+ KB\n"
     ]
    }
   ],
   "source": [
    "data = pd.concat([data1,data2,data3],axis=0)\n",
    "data.info()"
   ]
  },
  {
   "cell_type": "code",
   "execution_count": 4,
   "metadata": {},
   "outputs": [
    {
     "output_type": "stream",
     "name": "stdout",
     "text": [
      "<class 'pandas.core.frame.DataFrame'>\nInt64Index: 3000 entries, 0 to 1048\nData columns (total 3 columns):\n #   Column  Non-Null Count  Dtype \n---  ------  --------------  ----- \n 0   title   3000 non-null   object\n 1   score   3000 non-null   object\n 2   tag     2995 non-null   object\ndtypes: object(3)\nmemory usage: 93.8+ KB\n"
     ]
    }
   ],
   "source": [
    "data_1 = data.drop(data[data['score'] == 'score'].index)\n",
    "data_1.info()"
   ]
  },
  {
   "cell_type": "code",
   "execution_count": 5,
   "metadata": {},
   "outputs": [
    {
     "output_type": "stream",
     "name": "stdout",
     "text": [
      "<class 'pandas.core.frame.DataFrame'>\nInt64Index: 2901 entries, 0 to 1048\nData columns (total 3 columns):\n #   Column  Non-Null Count  Dtype \n---  ------  --------------  ----- \n 0   title   2901 non-null   object\n 1   score   2901 non-null   object\n 2   tag     2896 non-null   object\ndtypes: object(3)\nmemory usage: 90.7+ KB\n"
     ]
    }
   ],
   "source": [
    "data_1 = data_1.drop(data[data['score'] == '0'].index)\n",
    "data_1.info()"
   ]
  },
  {
   "cell_type": "code",
   "execution_count": 6,
   "metadata": {},
   "outputs": [
    {
     "output_type": "stream",
     "name": "stdout",
     "text": [
      "                        title score                         tag1  \\\n0                    蔡徐坤 - 情人   7.3                         蔡徐坤    \n1                   周杰伦 - 七里香   8.1                         周杰伦    \n2                  田馥甄 - 无人知晓   7.8                         田馥甄    \n3  蔡健雅 Tanya Chua... - 在哪里都很好   8.6  蔡健雅 Tanya Chua,王源 Roy Wang    \n4       鹿晗 Luhan - π-volume.4   8.4                    鹿晗 Luhan    \n\n           tag2  tag3           tag4 tag5  \n0   2020-05-24    单曲    数字(Digital)    流行  \n1         2004    专辑             CD    流行  \n2   2020-09-25    专辑             CD    流行  \n3   2020-11-05    单曲    数字(Digital)    流行  \n4   2020-10-27    EP    数字(Digital)    流行  \n"
     ]
    }
   ],
   "source": [
    "data_1['tag1'] = data_1['tag'].str.split('/').str[0]\n",
    "data_1['tag2'] = data_1['tag'].str.split('/').str[1]\n",
    "data_1['tag3'] = data_1['tag'].str.split('/').str[2]\n",
    "data_1['tag4'] = data_1['tag'].str.split('/').str[3]\n",
    "data_1['tag5'] = data_1['tag'].str.split('/').str[4]\n",
    "del data_1['tag']\n",
    "print(data_1.head())"
   ]
  },
  {
   "cell_type": "code",
   "execution_count": 7,
   "metadata": {},
   "outputs": [
    {
     "output_type": "stream",
     "name": "stdout",
     "text": [
      "<class 'pandas.core.frame.DataFrame'>\nInt64Index: 2901 entries, 0 to 1048\nData columns (total 7 columns):\n #   Column  Non-Null Count  Dtype \n---  ------  --------------  ----- \n 0   title   2901 non-null   object\n 1   score   2901 non-null   object\n 2   tag1    2896 non-null   object\n 3   tag2    2884 non-null   object\n 4   tag3    2853 non-null   object\n 5   tag4    2722 non-null   object\n 6   tag5    2360 non-null   object\ndtypes: object(7)\nmemory usage: 181.3+ KB\n"
     ]
    }
   ],
   "source": [
    "data_1.info()"
   ]
  },
  {
   "cell_type": "code",
   "execution_count": 8,
   "metadata": {},
   "outputs": [
    {
     "output_type": "stream",
     "name": "stdout",
     "text": [
      "<class 'pandas.core.frame.DataFrame'>\nInt64Index: 2360 entries, 0 to 1048\nData columns (total 7 columns):\n #   Column  Non-Null Count  Dtype \n---  ------  --------------  ----- \n 0   title   2360 non-null   object\n 1   score   2360 non-null   object\n 2   tag1    2360 non-null   object\n 3   tag2    2360 non-null   object\n 4   tag3    2360 non-null   object\n 5   tag4    2360 non-null   object\n 6   tag5    2360 non-null   object\ndtypes: object(7)\nmemory usage: 147.5+ KB\n"
     ]
    }
   ],
   "source": [
    "data_2 = data_1.dropna(axis=0, how='any')\n",
    "data_2.info()\n",
    "data_2.to_csv(\"data_2.csv\",index =False)"
   ]
  },
  {
   "source": [
    "data clean"
   ],
   "cell_type": "markdown",
   "metadata": {}
  },
  {
   "cell_type": "code",
   "execution_count": 9,
   "metadata": {},
   "outputs": [
    {
     "output_type": "execute_result",
     "data": {
      "text/plain": [
       "                        title  score                         tag1  \\\n",
       "0                    蔡徐坤 - 情人    7.3                         蔡徐坤    \n",
       "1                   周杰伦 - 七里香    8.1                         周杰伦    \n",
       "2                  田馥甄 - 无人知晓    7.8                         田馥甄    \n",
       "3  蔡健雅 Tanya Chua... - 在哪里都很好    8.6  蔡健雅 Tanya Chua,王源 Roy Wang    \n",
       "4       鹿晗 Luhan - π-volume.4    8.4                    鹿晗 Luhan    \n",
       "\n",
       "           tag2  tag3           tag4 tag5  \n",
       "0   2020-05-24    单曲    数字(Digital)    流行  \n",
       "1         2004    专辑             CD    流行  \n",
       "2   2020-09-25    专辑             CD    流行  \n",
       "3   2020-11-05    单曲    数字(Digital)    流行  \n",
       "4   2020-10-27    EP    数字(Digital)    流行  "
      ],
      "text/html": "<div>\n<style scoped>\n    .dataframe tbody tr th:only-of-type {\n        vertical-align: middle;\n    }\n\n    .dataframe tbody tr th {\n        vertical-align: top;\n    }\n\n    .dataframe thead th {\n        text-align: right;\n    }\n</style>\n<table border=\"1\" class=\"dataframe\">\n  <thead>\n    <tr style=\"text-align: right;\">\n      <th></th>\n      <th>title</th>\n      <th>score</th>\n      <th>tag1</th>\n      <th>tag2</th>\n      <th>tag3</th>\n      <th>tag4</th>\n      <th>tag5</th>\n    </tr>\n  </thead>\n  <tbody>\n    <tr>\n      <th>0</th>\n      <td>蔡徐坤 - 情人</td>\n      <td>7.3</td>\n      <td>蔡徐坤</td>\n      <td>2020-05-24</td>\n      <td>单曲</td>\n      <td>数字(Digital)</td>\n      <td>流行</td>\n    </tr>\n    <tr>\n      <th>1</th>\n      <td>周杰伦 - 七里香</td>\n      <td>8.1</td>\n      <td>周杰伦</td>\n      <td>2004</td>\n      <td>专辑</td>\n      <td>CD</td>\n      <td>流行</td>\n    </tr>\n    <tr>\n      <th>2</th>\n      <td>田馥甄 - 无人知晓</td>\n      <td>7.8</td>\n      <td>田馥甄</td>\n      <td>2020-09-25</td>\n      <td>专辑</td>\n      <td>CD</td>\n      <td>流行</td>\n    </tr>\n    <tr>\n      <th>3</th>\n      <td>蔡健雅 Tanya Chua... - 在哪里都很好</td>\n      <td>8.6</td>\n      <td>蔡健雅 Tanya Chua,王源 Roy Wang</td>\n      <td>2020-11-05</td>\n      <td>单曲</td>\n      <td>数字(Digital)</td>\n      <td>流行</td>\n    </tr>\n    <tr>\n      <th>4</th>\n      <td>鹿晗 Luhan - π-volume.4</td>\n      <td>8.4</td>\n      <td>鹿晗 Luhan</td>\n      <td>2020-10-27</td>\n      <td>EP</td>\n      <td>数字(Digital)</td>\n      <td>流行</td>\n    </tr>\n  </tbody>\n</table>\n</div>"
     },
     "metadata": {},
     "execution_count": 9
    }
   ],
   "source": [
    "df = pd.read_csv('data_2.csv',dtype={'score':float})\n",
    "df.head()"
   ]
  },
  {
   "cell_type": "code",
   "execution_count": 10,
   "metadata": {},
   "outputs": [
    {
     "output_type": "stream",
     "name": "stdout",
     "text": [
      "<class 'pandas.core.frame.DataFrame'>\nRangeIndex: 2360 entries, 0 to 2359\nData columns (total 7 columns):\n #   Column  Non-Null Count  Dtype  \n---  ------  --------------  -----  \n 0   title   2360 non-null   object \n 1   score   2360 non-null   float64\n 2   tag1    2360 non-null   object \n 3   tag2    2360 non-null   object \n 4   tag3    2360 non-null   object \n 5   tag4    2360 non-null   object \n 6   tag5    2360 non-null   object \ndtypes: float64(1), object(6)\nmemory usage: 129.2+ KB\n"
     ]
    }
   ],
   "source": [
    "df.info()"
   ]
  },
  {
   "cell_type": "code",
   "execution_count": 11,
   "metadata": {},
   "outputs": [],
   "source": [
    "df.loc[df['tag3'].str.contains('单曲'),'type'] = 1\n",
    "df.loc[df['tag3'].str.contains('选集'),'type'] = 2\n",
    "df.loc[df['tag3'].str.contains('专辑'),'type'] = 2\n",
    "df.loc[df['tag3'].str.contains('Import'),'type'] = 2\n",
    "df.loc[df['tag3'].str.contains('Soundtrack'),'type'] = 2\n",
    "df.loc[df['tag3'].str.contains('非发行歌曲'),'type'] = 1\n",
    "df.loc[df['tag3'].str.contains('EP'),'type'] = 2\n",
    "df.loc[df['tag3'].str.contains('Single'),'type'] = 1\n",
    "df.loc[df['tag3'].str.contains('CD-single'),'type'] = 1\n",
    "df.loc[df['tag3'].str.contains('Enhanced'),'type'] = 2\n",
    "df.loc[df['tag3'].str.contains('Explicit Lyrics'),'type'] = 2"
   ]
  },
  {
   "cell_type": "code",
   "execution_count": 12,
   "metadata": {},
   "outputs": [],
   "source": [
    "df = df.drop(['tag3'], axis=1)\n",
    "df = df.dropna(axis=0, how='any')"
   ]
  },
  {
   "cell_type": "code",
   "execution_count": 13,
   "metadata": {},
   "outputs": [],
   "source": [
    "df['time'] = df['tag2'].str[0:5]\n",
    "df['TIME'] = df.time.apply(lambda x: 1 if '01 J' in x else 0)\n",
    "df.loc[df['time'].str.contains('01 J'),'TIME'] = 1\n",
    "df.loc[df['time'].str.contains('June'),'TIME'] = 1\n",
    "df.loc[df['time'].str.contains('Sept'),'TIME'] = 1\n",
    "df.loc[df['time'].str.contains('Apri'),'TIME'] = 1\n",
    "df.loc[df['TIME'] == 1, 'time'] = df['tag2'].str[-5:]"
   ]
  },
  {
   "cell_type": "code",
   "execution_count": 14,
   "metadata": {},
   "outputs": [],
   "source": [
    "df = df.drop(['TIME'], axis=1)\n",
    "df = df.drop(['tag2'], axis=1)"
   ]
  },
  {
   "cell_type": "code",
   "execution_count": 15,
   "metadata": {},
   "outputs": [],
   "source": [
    "df.loc[df['score'] > 8.5, 'label'] = 2\n",
    "df.loc[df['score'] < 8.5, 'label'] = 1\n",
    "df.loc[df['score'] == 8.5, 'label'] = 1\n",
    "df.loc[df['score'] == 7, 'label'] = 0\n",
    "df.loc[df['score'] < 7, 'label'] = 0"
   ]
  },
  {
   "cell_type": "code",
   "execution_count": 16,
   "metadata": {},
   "outputs": [
    {
     "output_type": "stream",
     "name": "stdout",
     "text": [
      "<class 'pandas.core.frame.DataFrame'>\nInt64Index: 2285 entries, 0 to 2359\nData columns (total 8 columns):\n #   Column  Non-Null Count  Dtype  \n---  ------  --------------  -----  \n 0   title   2285 non-null   object \n 1   score   2285 non-null   float64\n 2   tag1    2285 non-null   object \n 3   tag4    2285 non-null   object \n 4   tag5    2285 non-null   object \n 5   type    2285 non-null   float64\n 6   time    2285 non-null   object \n 7   label   2285 non-null   float64\ndtypes: float64(3), object(5)\nmemory usage: 240.7+ KB\n"
     ]
    }
   ],
   "source": [
    "df.info()"
   ]
  },
  {
   "cell_type": "code",
   "execution_count": 17,
   "metadata": {},
   "outputs": [],
   "source": [
    "df['author1'] = df['tag1'].str.split(',').str[0]\n",
    "df['author2'] = df['tag1'].str.split(',').str[1]\n",
    "df['author3'] = df['tag1'].str.split(',').str[2]"
   ]
  },
  {
   "cell_type": "code",
   "execution_count": 18,
   "metadata": {},
   "outputs": [
    {
     "output_type": "execute_result",
     "data": {
      "text/plain": [
       "                        title  score           tag4 tag5  type   time  label  \\\n",
       "0                    蔡徐坤 - 情人    7.3   数字(Digital)    流行   1.0   2020    1.0   \n",
       "1                   周杰伦 - 七里香    8.1            CD    流行   2.0   2004    1.0   \n",
       "2                  田馥甄 - 无人知晓    7.8            CD    流行   2.0   2020    1.0   \n",
       "3  蔡健雅 Tanya Chua... - 在哪里都很好    8.6   数字(Digital)    流行   1.0   2020    2.0   \n",
       "4       鹿晗 Luhan - π-volume.4    8.4   数字(Digital)    流行   2.0   2020    1.0   \n",
       "\n",
       "          author1       author2 author3  \n",
       "0            蔡徐坤            NaN     NaN  \n",
       "1            周杰伦            NaN     NaN  \n",
       "2            田馥甄            NaN     NaN  \n",
       "3  蔡健雅 Tanya Chua  王源 Roy Wang      NaN  \n",
       "4       鹿晗 Luhan            NaN     NaN  "
      ],
      "text/html": "<div>\n<style scoped>\n    .dataframe tbody tr th:only-of-type {\n        vertical-align: middle;\n    }\n\n    .dataframe tbody tr th {\n        vertical-align: top;\n    }\n\n    .dataframe thead th {\n        text-align: right;\n    }\n</style>\n<table border=\"1\" class=\"dataframe\">\n  <thead>\n    <tr style=\"text-align: right;\">\n      <th></th>\n      <th>title</th>\n      <th>score</th>\n      <th>tag4</th>\n      <th>tag5</th>\n      <th>type</th>\n      <th>time</th>\n      <th>label</th>\n      <th>author1</th>\n      <th>author2</th>\n      <th>author3</th>\n    </tr>\n  </thead>\n  <tbody>\n    <tr>\n      <th>0</th>\n      <td>蔡徐坤 - 情人</td>\n      <td>7.3</td>\n      <td>数字(Digital)</td>\n      <td>流行</td>\n      <td>1.0</td>\n      <td>2020</td>\n      <td>1.0</td>\n      <td>蔡徐坤</td>\n      <td>NaN</td>\n      <td>NaN</td>\n    </tr>\n    <tr>\n      <th>1</th>\n      <td>周杰伦 - 七里香</td>\n      <td>8.1</td>\n      <td>CD</td>\n      <td>流行</td>\n      <td>2.0</td>\n      <td>2004</td>\n      <td>1.0</td>\n      <td>周杰伦</td>\n      <td>NaN</td>\n      <td>NaN</td>\n    </tr>\n    <tr>\n      <th>2</th>\n      <td>田馥甄 - 无人知晓</td>\n      <td>7.8</td>\n      <td>CD</td>\n      <td>流行</td>\n      <td>2.0</td>\n      <td>2020</td>\n      <td>1.0</td>\n      <td>田馥甄</td>\n      <td>NaN</td>\n      <td>NaN</td>\n    </tr>\n    <tr>\n      <th>3</th>\n      <td>蔡健雅 Tanya Chua... - 在哪里都很好</td>\n      <td>8.6</td>\n      <td>数字(Digital)</td>\n      <td>流行</td>\n      <td>1.0</td>\n      <td>2020</td>\n      <td>2.0</td>\n      <td>蔡健雅 Tanya Chua</td>\n      <td>王源 Roy Wang</td>\n      <td>NaN</td>\n    </tr>\n    <tr>\n      <th>4</th>\n      <td>鹿晗 Luhan - π-volume.4</td>\n      <td>8.4</td>\n      <td>数字(Digital)</td>\n      <td>流行</td>\n      <td>2.0</td>\n      <td>2020</td>\n      <td>1.0</td>\n      <td>鹿晗 Luhan</td>\n      <td>NaN</td>\n      <td>NaN</td>\n    </tr>\n  </tbody>\n</table>\n</div>"
     },
     "metadata": {},
     "execution_count": 18
    }
   ],
   "source": [
    "df = df.drop(['tag1'], axis=1)\n",
    "df.head()"
   ]
  },
  {
   "cell_type": "code",
   "execution_count": 19,
   "metadata": {},
   "outputs": [
    {
     "output_type": "stream",
     "name": "stdout",
     "text": [
      "                        title  score           tag4 tag5  type   time  label  \\\n0                    蔡徐坤 - 情人    7.3   数字(Digital)    流行   1.0   2020    1.0   \n3  蔡健雅 Tanya Chua... - 在哪里都很好    8.6   数字(Digital)    流行   1.0   2020    2.0   \n5           林俊杰 JJ Lin - 交換餘生    7.5   数字(Digital)    流行   1.0   2020    1.0   \n7                   朴树 - 平凡之路    8.9   数字(Digital)    原声   1.0   2014    2.0   \n8          王源 Roy Wang - 鱼缸旅馆    8.7   数字(Digital)    流行   1.0   2020    2.0   \n\n          author1       author2 author3  \n0            蔡徐坤            NaN     NaN  \n3  蔡健雅 Tanya Chua  王源 Roy Wang      NaN  \n5     林俊杰 JJ Lin            NaN     NaN  \n7             朴树            NaN     NaN  \n8    王源 Roy Wang            NaN     NaN  \n"
     ]
    }
   ],
   "source": [
    "x = pd.DataFrame()\n",
    "x = df[df['type'] == 1]\n",
    "print(x.head())\n",
    "x.to_csv('Single.csv',index=False)"
   ]
  },
  {
   "cell_type": "code",
   "execution_count": 20,
   "metadata": {},
   "outputs": [
    {
     "output_type": "stream",
     "name": "stdout",
     "text": [
      "                       title  score           tag4 tag5  type   time  label  \\\n1                  周杰伦 - 七里香    8.1            CD    流行   2.0   2004    1.0   \n2                 田馥甄 - 无人知晓    7.8            CD    流行   2.0   2020    1.0   \n4      鹿晗 Luhan - π-volume.4    8.4   数字(Digital)    流行   2.0   2020    1.0   \n6   林俊杰 JJ Lin - 幸存者 Drifter    7.3   数字(Digital)    流行   2.0   2020    1.0   \n10                 周杰伦 - 范特西    9.2            CD    流行   2.0   2001    2.0   \n\n        author1 author2 author3  \n1          周杰伦      NaN     NaN  \n2          田馥甄      NaN     NaN  \n4     鹿晗 Luhan      NaN     NaN  \n6   林俊杰 JJ Lin      NaN     NaN  \n10         周杰伦      NaN     NaN  \n"
     ]
    }
   ],
   "source": [
    "x1 = pd.DataFrame()\n",
    "x1 = df[df['type'] == 2]\n",
    "print(x1.head())\n",
    "x1.to_csv('Album.csv',index=False)"
   ]
  },
  {
   "cell_type": "code",
   "execution_count": 21,
   "metadata": {},
   "outputs": [],
   "source": [
    "df['author'] = df['title'].str.split(' - ').str[0]\n",
    "df['song'] = df['title'].str.split(' - ').str[1]\n",
    "df = df.drop(['author'], axis=1)\n",
    "df = df.drop(['title'], axis=1)"
   ]
  },
  {
   "cell_type": "code",
   "execution_count": 22,
   "metadata": {},
   "outputs": [],
   "source": [
    "df.to_csv(\"df.csv\",index =False)"
   ]
  },
  {
   "cell_type": "code",
   "execution_count": null,
   "metadata": {},
   "outputs": [],
   "source": []
  }
 ],
 "metadata": {
  "kernelspec": {
   "display_name": "Python 3",
   "language": "python",
   "name": "python3"
  },
  "language_info": {
   "codemirror_mode": {
    "name": "ipython",
    "version": 3
   },
   "file_extension": ".py",
   "mimetype": "text/x-python",
   "name": "python",
   "nbconvert_exporter": "python",
   "pygments_lexer": "ipython3",
   "version": "3.7.6-final"
  }
 },
 "nbformat": 4,
 "nbformat_minor": 2
}